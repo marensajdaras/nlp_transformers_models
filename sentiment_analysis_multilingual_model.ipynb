{
 "cells": [
  {
   "cell_type": "code",
   "execution_count": 2,
   "metadata": {},
   "outputs": [
    {
     "name": "stderr",
     "output_type": "stream",
     "text": [
      "Some layers from the model checkpoint at distilbert-base-uncased-finetuned-sst-2-english were not used when initializing TFDistilBertForSequenceClassification: ['dropout_19']\n",
      "- This IS expected if you are initializing TFDistilBertForSequenceClassification from the checkpoint of a model trained on another task or with another architecture (e.g. initializing a BertForSequenceClassification model from a BertForPreTraining model).\n",
      "- This IS NOT expected if you are initializing TFDistilBertForSequenceClassification from the checkpoint of a model that you expect to be exactly identical (initializing a BertForSequenceClassification model from a BertForSequenceClassification model).\n",
      "Some layers of TFDistilBertForSequenceClassification were not initialized from the model checkpoint at distilbert-base-uncased-finetuned-sst-2-english and are newly initialized: ['dropout_39']\n",
      "You should probably TRAIN this model on a down-stream task to be able to use it for predictions and inference.\n"
     ]
    }
   ],
   "source": [
    "# AutoTokenizer preprocess the data \n",
    "''' tokenizer will split the given text in words (tokens)\n",
    "second it converts these tokens into numbers and after that it builds a tensor and feed them to the model'''\n",
    "from transformers import AutoTokenizer, TFAutoModelForSequenceClassification\n",
    "model_name = \"distilbert-base-uncased-finetuned-sst-2-english\"\n",
    "tf_model = TFAutoModelForSequenceClassification.from_pretrained(model_name)\n",
    "tokenizer = AutoTokenizer.from_pretrained(model_name)\n"
   ]
  },
  {
   "cell_type": "code",
   "execution_count": 3,
   "metadata": {},
   "outputs": [
    {
     "name": "stdout",
     "output_type": "stream",
     "text": [
      "{'input_ids': [101, 2047, 2259, 2003, 1996, 3007, 1997, 1996, 2878, 2088, 999, 102], 'attention_mask': [1, 1, 1, 1, 1, 1, 1, 1, 1, 1, 1, 1]}\n"
     ]
    }
   ],
   "source": [
    "text_1 = tokenizer(\"New York is the capital of the whole world!\")\n",
    "print(text_1)\n",
    "# what we can see is that it gives a dictionarystring to list of ints.\n"
   ]
  },
  {
   "cell_type": "code",
   "execution_count": 8,
   "metadata": {},
   "outputs": [
    {
     "name": "stdout",
     "output_type": "stream",
     "text": [
      "{'input_ids': <tf.Tensor: shape=(2, 12), dtype=int32, numpy=\n",
      "array([[ 101, 2047, 2259, 2003, 1996, 3007, 1997, 1996, 2878, 2088,  999,\n",
      "         102],\n",
      "       [ 101, 2899, 2003, 1996, 3007, 1997, 2163, 1012,  102,    0,    0,\n",
      "           0]])>, 'attention_mask': <tf.Tensor: shape=(2, 12), dtype=int32, numpy=\n",
      "array([[1, 1, 1, 1, 1, 1, 1, 1, 1, 1, 1, 1],\n",
      "       [1, 1, 1, 1, 1, 1, 1, 1, 1, 0, 0, 0]])>}\n"
     ]
    }
   ],
   "source": [
    "# we can use tokenizer() with other attributes like padding, truncation, max_length and return_tensors.\n",
    "text_2 = tokenizer([\"New York is the capital of the whole world!\",\"Washington is the capital of states.\"],\n",
    "padding = True,\n",
    "truncation = True,\n",
    "max_length=  256,\n",
    "return_tensors='tf')\n",
    "\n",
    "print(text_2)\n"
   ]
  },
  {
   "cell_type": "code",
   "execution_count": 9,
   "metadata": {},
   "outputs": [
    {
     "name": "stdout",
     "output_type": "stream",
     "text": [
      "input_ids: [[101, 2047, 2259, 2003, 1996, 3007, 1997, 1996, 2878, 2088, 999, 102], [101, 2899, 2003, 1996, 3007, 1997, 2163, 1012, 102, 0, 0, 0]]\n",
      "attention_mask: [[1, 1, 1, 1, 1, 1, 1, 1, 1, 1, 1, 1], [1, 1, 1, 1, 1, 1, 1, 1, 1, 0, 0, 0]]\n"
     ]
    }
   ],
   "source": [
    "for key, value in text_2.items():\n",
    "    print(f'{key}: {value.numpy().tolist()}')\n",
    "    "
   ]
  },
  {
   "cell_type": "code",
   "execution_count": 10,
   "metadata": {},
   "outputs": [
    {
     "name": "stdout",
     "output_type": "stream",
     "text": [
      "TFSequenceClassifierOutput(loss=None, logits=<tf.Tensor: shape=(2, 2), dtype=float32, numpy=\n",
      "array([[-4.054861 ,  4.363096 ],\n",
      "       [-3.7506948,  4.004222 ]], dtype=float32)>, hidden_states=None, attentions=None)\n"
     ]
    }
   ],
   "source": [
    "# after preprocessing text_1 we can now go to the model \n",
    "model_1 = tf_model(text_2)\n",
    "print(model_1)\n"
   ]
  },
  {
   "cell_type": "code",
   "execution_count": 11,
   "metadata": {},
   "outputs": [],
   "source": [
    "import tensorflow as tf\n",
    "\n",
    "\n"
   ]
  },
  {
   "cell_type": "code",
   "execution_count": 14,
   "metadata": {},
   "outputs": [
    {
     "name": "stdout",
     "output_type": "stream",
     "text": [
      "tf.Tensor(\n",
      "[[2.2081658e-04 9.9977916e-01]\n",
      " [4.2844625e-04 9.9957150e-01]], shape=(2, 2), dtype=float32)\n"
     ]
    }
   ],
   "source": [
    "tf_predictions = tf.nn.softmax(model_1[0], axis=-1)\n",
    "print(tf_predictions)"
   ]
  },
  {
   "cell_type": "code",
   "execution_count": 16,
   "metadata": {},
   "outputs": [],
   "source": [
    "# if i need labels i can provide it to the model\n",
    "tf_outputs = tf_model(text_2, labels = tf.constant([1,0]))"
   ]
  },
  {
   "cell_type": "code",
   "execution_count": 18,
   "metadata": {},
   "outputs": [
    {
     "data": {
      "text/plain": [
       "('C:\\\\Users\\\\User\\\\Desktop\\\\Github\\\\Github\\\\Github_publish\\\\tokenizer_config.json',\n",
       " 'C:\\\\Users\\\\User\\\\Desktop\\\\Github\\\\Github\\\\Github_publish\\\\special_tokens_map.json',\n",
       " 'C:\\\\Users\\\\User\\\\Desktop\\\\Github\\\\Github\\\\Github_publish\\\\vocab.txt',\n",
       " 'C:\\\\Users\\\\User\\\\Desktop\\\\Github\\\\Github\\\\Github_publish\\\\added_tokens.json',\n",
       " 'C:\\\\Users\\\\User\\\\Desktop\\\\Github\\\\Github\\\\Github_publish\\\\tokenizer.json')"
      ]
     },
     "execution_count": 18,
     "metadata": {},
     "output_type": "execute_result"
    }
   ],
   "source": [
    "# after that i have to save the model\n",
    "tokenizer.save_pretrained(save_directory=r'C:\\Users\\User\\Desktop\\Github\\Github\\Github_publish')\n"
   ]
  },
  {
   "cell_type": "code",
   "execution_count": null,
   "metadata": {},
   "outputs": [],
   "source": []
  }
 ],
 "metadata": {
  "kernelspec": {
   "display_name": "Python 3.9.7 ('base')",
   "language": "python",
   "name": "python3"
  },
  "language_info": {
   "codemirror_mode": {
    "name": "ipython",
    "version": 3
   },
   "file_extension": ".py",
   "mimetype": "text/x-python",
   "name": "python",
   "nbconvert_exporter": "python",
   "pygments_lexer": "ipython3",
   "version": "3.9.7"
  },
  "orig_nbformat": 4,
  "vscode": {
   "interpreter": {
    "hash": "f08154012ddadd8e950e6e9e035c7a7b32c136e7647e9b7c77e02eb723a8bedb"
   }
  }
 },
 "nbformat": 4,
 "nbformat_minor": 2
}
